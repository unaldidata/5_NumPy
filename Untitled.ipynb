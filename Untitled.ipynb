{
 "cells": [
  {
   "cell_type": "code",
   "execution_count": 1,
   "id": "51affee5-95b4-4c5b-93b4-3f31015c0d7a",
   "metadata": {},
   "outputs": [],
   "source": [
    "import numpy as np"
   ]
  },
  {
   "cell_type": "code",
   "execution_count": 21,
   "id": "89fae239-096f-45e4-926f-2c6dc4b39669",
   "metadata": {},
   "outputs": [
    {
     "data": {
      "text/plain": [
       "array([-1. , -0.5,  0. ,  0.5,  1. ,  1.5,  2. ,  2.5,  3. ,  3.5,  4. ,\n",
       "        4.5,  5. ,  5.5,  6. ,  6.5,  7. ,  7.5])"
      ]
     },
     "execution_count": 21,
     "metadata": {},
     "output_type": "execute_result"
    }
   ],
   "source": [
    "my_array = np.arange(-1, 8, 0.5)\n",
    "my_array"
   ]
  },
  {
   "cell_type": "code",
   "execution_count": 19,
   "id": "22ca6bf1-4621-4429-9246-73ed90765349",
   "metadata": {},
   "outputs": [
    {
     "data": {
      "text/plain": [
       "numpy.ndarray"
      ]
     },
     "execution_count": 19,
     "metadata": {},
     "output_type": "execute_result"
    }
   ],
   "source": [
    "type(my_array)"
   ]
  },
  {
   "cell_type": "code",
   "execution_count": 31,
   "id": "9d424cd8-3fc1-451f-ad9d-d25eb35ff8c5",
   "metadata": {},
   "outputs": [
    {
     "data": {
      "text/plain": [
       "array([1, 2, 3, 4, 5], dtype=int8)"
      ]
     },
     "execution_count": 31,
     "metadata": {},
     "output_type": "execute_result"
    }
   ],
   "source": [
    "from_list = np.array([1,2,3,4,5], dtype = np.int8)\n",
    "from_list"
   ]
  },
  {
   "cell_type": "code",
   "execution_count": 33,
   "id": "7f6120c3-78c1-448b-822b-7250e501a3f0",
   "metadata": {},
   "outputs": [
    {
     "data": {
      "text/plain": [
       "numpy.int8"
      ]
     },
     "execution_count": 33,
     "metadata": {},
     "output_type": "execute_result"
    }
   ],
   "source": [
    "type(from_list[0])"
   ]
  },
  {
   "cell_type": "code",
   "execution_count": 35,
   "id": "2ec5f817-c3fb-40fa-8881-64785e0da901",
   "metadata": {},
   "outputs": [],
   "source": [
    "#### 2D Arrays"
   ]
  },
  {
   "cell_type": "code",
   "execution_count": 37,
   "id": "6b697786-2b40-4eeb-b153-6c454567ad4b",
   "metadata": {},
   "outputs": [
    {
     "data": {
      "text/plain": [
       "array([[ 1,  2,  3,  4,  5],\n",
       "       [ 6,  7,  8,  9, 10]])"
      ]
     },
     "execution_count": 37,
     "metadata": {},
     "output_type": "execute_result"
    }
   ],
   "source": [
    "from_2d_list = np.array([[1,2,3,4,5], [6, 7, 8, 9, 10]])\n",
    "from_2d_list"
   ]
  },
  {
   "cell_type": "code",
   "execution_count": 53,
   "id": "f7120d59-164f-4b13-88c4-ca1abe257307",
   "metadata": {},
   "outputs": [
    {
     "data": {
      "text/plain": [
       "array([[0, 2, 4, 6],\n",
       "       [1, 3, 5, 7]])"
      ]
     },
     "execution_count": 53,
     "metadata": {},
     "output_type": "execute_result"
    }
   ],
   "source": [
    "array = np.array((np.arange(0, 8, 2), np.arange(1,8,2,)))\n",
    "array.reshape((2,4))\n",
    "array"
   ]
  },
  {
   "cell_type": "code",
   "execution_count": 55,
   "id": "fb7ffa8f-e3ed-4ef5-bf58-dd43fe6af8ad",
   "metadata": {},
   "outputs": [
    {
     "data": {
      "text/plain": [
       "array([[[0, 2]],\n",
       "\n",
       "       [[4, 6]],\n",
       "\n",
       "       [[1, 3]],\n",
       "\n",
       "       [[5, 7]]])"
      ]
     },
     "execution_count": 55,
     "metadata": {},
     "output_type": "execute_result"
    }
   ],
   "source": [
    "array.reshape((4,1,2))"
   ]
  },
  {
   "cell_type": "code",
   "execution_count": 57,
   "id": "608c4a1e-8266-484d-adf8-5bd14a620da4",
   "metadata": {},
   "outputs": [
    {
     "data": {
      "text/plain": [
       "array([[0, 2, 4, 6, 1, 3, 5, 7]])"
      ]
     },
     "execution_count": 57,
     "metadata": {},
     "output_type": "execute_result"
    }
   ],
   "source": [
    "array.reshape((1,8))"
   ]
  },
  {
   "cell_type": "code",
   "execution_count": 59,
   "id": "7d61c74f-f665-4920-b636-b501755eb7c8",
   "metadata": {},
   "outputs": [],
   "source": [
    "## empyt arrays"
   ]
  },
  {
   "cell_type": "code",
   "execution_count": 65,
   "id": "3ba71720-966e-43f0-8d14-d2cd89fa6514",
   "metadata": {},
   "outputs": [
    {
     "data": {
      "text/plain": [
       "array([[1., 1.],\n",
       "       [1., 1.]])"
      ]
     },
     "execution_count": 65,
     "metadata": {},
     "output_type": "execute_result"
    }
   ],
   "source": [
    "empty_arrayh = np.ones((2,2))\n",
    "empty_arrayh"
   ]
  },
  {
   "cell_type": "code",
   "execution_count": 67,
   "id": "7827dabf-7f3d-4386-b589-28afd43190ab",
   "metadata": {},
   "outputs": [
    {
     "data": {
      "text/plain": [
       "array([[0., 0.],\n",
       "       [0., 0.]])"
      ]
     },
     "execution_count": 67,
     "metadata": {},
     "output_type": "execute_result"
    }
   ],
   "source": [
    "empty_arrayh = np.zeros((2,2))\n",
    "empty_arrayh"
   ]
  },
  {
   "cell_type": "code",
   "execution_count": 71,
   "id": "708d3db1-31c4-43b0-b608-f15d26b40aaf",
   "metadata": {},
   "outputs": [
    {
     "data": {
      "text/plain": [
       "array([[[6.23042070e-307, 4.67296746e-307],\n",
       "        [1.69121096e-306, 6.23043429e-307]],\n",
       "\n",
       "       [[2.22526399e-307, 6.23053614e-307],\n",
       "        [7.56592338e-307, 9.34588061e-307]]])"
      ]
     },
     "execution_count": 71,
     "metadata": {},
     "output_type": "execute_result"
    }
   ],
   "source": [
    "empty_arrayh = np.empty((2,2,2))\n",
    "empty_arrayh"
   ]
  },
  {
   "cell_type": "code",
   "execution_count": 97,
   "id": "8fe9716d-a979-491e-8bb8-c5e578257d35",
   "metadata": {},
   "outputs": [
    {
     "data": {
      "text/plain": [
       "array([[  2.,   2.,  29.],\n",
       "       [859., 859., 859.],\n",
       "       [859., 859., 859.]])"
      ]
     },
     "execution_count": 97,
     "metadata": {},
     "output_type": "execute_result"
    }
   ],
   "source": [
    "eye_array = np.eye(3, k=+1)\n",
    "eye_array [eye_array == 0 ] = 2\n",
    "eye_array [eye_array < 2  ] = 29\n",
    "eye_array [1:] = 859\n",
    "sorted = np.sort(eye_array)\n",
    "sorted"
   ]
  },
  {
   "cell_type": "code",
   "execution_count": null,
   "id": "9d7906eb-6eb4-410d-bb35-6355b08d354b",
   "metadata": {},
   "outputs": [],
   "source": []
  }
 ],
 "metadata": {
  "kernelspec": {
   "display_name": "Python 3 (ipykernel)",
   "language": "python",
   "name": "python3"
  },
  "language_info": {
   "codemirror_mode": {
    "name": "ipython",
    "version": 3
   },
   "file_extension": ".py",
   "mimetype": "text/x-python",
   "name": "python",
   "nbconvert_exporter": "python",
   "pygments_lexer": "ipython3",
   "version": "3.12.7"
  }
 },
 "nbformat": 4,
 "nbformat_minor": 5
}
