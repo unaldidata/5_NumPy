{
 "cells": [
  {
   "cell_type": "markdown",
   "metadata": {},
   "source": [
    "# <p style=\"background-color:green;font-family:newtimeroman;font-size:200%;color:white;text-align:center;border-radius:20px 20px;\"><b>Numpy-Pandas Interview Questions</b></p>\n",
    "![](https://www.techproeducation.com/logo/headerlogo.svg)\n",
    "\n",
    "<b>Yeniliklerden ilk siz haberdar olmak istiyorsanız lütfen bizi takip etmeyi unutmayın </b>[YouTube](https://www.youtube.com/c/techproeducation) | [Instagram](https://www.instagram.com/techproeducation) | [Facebook](https://www.facebook.com/techproeducation) | [Telegram](https://t.me/joinchat/HH2qRvA-ulh4OWbb) | [Whatsapp](https://api.whatsapp.com/send/?phone=%2B15853042959&text&type=phone_number&app_absent=0) | [LinkedIn](https://www.linkedin.com/company/techproeducation/mycompany/) |"
   ]
  },
  {
   "cell_type": "markdown",
   "metadata": {},
   "source": [
    "https://www.stratascratch.com/"
   ]
  },
  {
   "cell_type": "markdown",
   "metadata": {},
   "source": [
    "## Numpy soruları"
   ]
  },
  {
   "cell_type": "markdown",
   "metadata": {},
   "source": [
    "### 1. Numpy nedir ne amaçla kullanılır?"
   ]
  },
  {
   "cell_type": "markdown",
   "metadata": {},
   "source": [
    "https://numpy.org/doc/stable/user/absolute_beginners.html#"
   ]
  },
  {
   "cell_type": "markdown",
   "metadata": {},
   "source": [
    "NumPy (Sayısal Python), bilim ve mühendislikte yaygın olarak kullanılan açık kaynaklı bir Python kütüphanesidir. NumPy kütüphanesi, homojen, N boyutlu ndarray gibi çok boyutlu dizi veri yapıları ve bu veri yapıları üzerinde etkili bir şekilde çalışan büyük bir fonksiyon kütüphanesi içerir."
   ]
  },
  {
   "cell_type": "markdown",
   "metadata": {},
   "source": [
    "NumPy, aşağıdakiler dahil olmak üzere geniş bir uygulama yelpazesi için kullanılır:\n",
    "\n",
    "Bilimsel Hesaplama: NumPy, matematiksel, bilimsel ve mühendislik hesaplamaları için olmazsa olmaz bir araçtır. Verimli dizi işlemleri, doğrusal cebir rutinleri, Fourier dönüşümleri ve rastgele sayı üretimi gibi özellikler sunar.\n",
    "\n",
    "Veri Analizi: NumPy, büyük veri kümelerini işlemede ve analiz etmede oldukça etkilidir. Verileri temizleme, dönüştürme ve şekillendirme gibi görevleri kolaylaştırır.\n",
    "\n",
    "Makine Öğrenmesi: NumPy dizileri, çoğu makine öğrenmesi algoritması için verimli bir veri yapısı sağlar. Scikit-learn gibi birçok makine öğrenmesi kütüphanesi, NumPy dizilerini temel veri yapısı olarak kullanır.\n",
    "\n",
    "Görüntü İşleme: NumPy dizileri, görüntüleri temsil etmek ve işlemek için kullanılabilir. OpenCV gibi görüntü işleme kütüphaneleri NumPy'yi temel bir bağımlılık olarak kullanır.\n",
    "\n",
    "Finansal Modelleme: NumPy, finansal modellemede kullanılan karmaşık matematiksel hesaplamaları gerçekleştirmek için kullanılabilir."
   ]
  },
  {
   "cell_type": "markdown",
   "metadata": {},
   "source": [
    "### 2. Numpy ile 1D, 2D ve 3D array nasıl oluşturursunuz?"
   ]
  },
  {
   "cell_type": "code",
   "execution_count": 1,
   "metadata": {},
   "outputs": [],
   "source": [
    "#1D array (Vektörler)\n",
    "import numpy as np\n",
    "# Liste kullanarak 1D dizi oluşturma\n",
    "dizi_1d = np.array([1, 2, 3, 4, 5])\n",
    "\n",
    "# Sıfırlardan oluşan 1D dizi oluşturma\n",
    "sifirlar_1d = np.zeros(5)\n",
    "\n",
    "# Birlerden oluşan 1D dizi oluşturma\n",
    "birler_1d = np.ones(5)\n",
    "\n",
    "# Belirli bir aralıkta değerler içeren 1D dizi oluşturma\n",
    "aralik_1d = np.arange(1, 10, 2) "
   ]
  },
  {
   "cell_type": "code",
   "execution_count": 2,
   "metadata": {},
   "outputs": [
    {
     "name": "stdout",
     "output_type": "stream",
     "text": [
      "[1 2 3 4 5]\n",
      "[0. 0. 0. 0. 0.]\n",
      "[1. 1. 1. 1. 1.]\n",
      "[1 3 5 7 9]\n"
     ]
    }
   ],
   "source": [
    "print(dizi_1d)\n",
    "print(sifirlar_1d)\n",
    "print(birler_1d)\n",
    "print(aralik_1d)"
   ]
  },
  {
   "cell_type": "code",
   "execution_count": 29,
   "metadata": {},
   "outputs": [
    {
     "name": "stdout",
     "output_type": "stream",
     "text": [
      "[[1 2 3]\n",
      " [4 5 6]\n",
      " [7 8 9]]\n",
      "[[0. 0. 0. 0.]\n",
      " [0. 0. 0. 0.]\n",
      " [0. 0. 0. 0.]]\n",
      "[[1. 1. 1.]\n",
      " [1. 1. 1.]]\n",
      "[[0.39347153 0.07214654]\n",
      " [0.8831293  0.63704386]]\n"
     ]
    }
   ],
   "source": [
    "# 2D array (Matrisler)\n",
    "\n",
    "# İçiçe liste kullanarak 2D dizi oluşturma\n",
    "dizi_2d = np.array([[1, 2, 3], [4, 5, 6], [7, 8, 9]])\n",
    "\n",
    "# Sıfırlardan oluşan 2D dizi oluşturma\n",
    "sifirlar_2d = np.zeros((3, 4)) # 3 satır, 4 sütun\n",
    "\n",
    "# Birlerden oluşan 2D dizi oluşturma\n",
    "birler_2d = np.ones((2, 3)) # 2 satır, 3 sütun\n",
    "\n",
    "# Rastgele sayılardan oluşan 2D dizi oluşturma\n",
    "rastgele_2d = np.random.rand(2, 2) # randint\n",
    "\n",
    "print(dizi_2d)\n",
    "print(sifirlar_2d)\n",
    "print(birler_2d)\n",
    "print(rastgele_2d)"
   ]
  },
  {
   "cell_type": "code",
   "execution_count": 36,
   "metadata": {},
   "outputs": [
    {
     "name": "stdout",
     "output_type": "stream",
     "text": [
      "[[[1 2]\n",
      "  [3 4]]\n",
      "\n",
      " [[5 6]\n",
      "  [7 8]]]\n",
      "[[[0. 0. 0. 0.]\n",
      "  [0. 0. 0. 0.]\n",
      "  [0. 0. 0. 0.]]\n",
      "\n",
      " [[0. 0. 0. 0.]\n",
      "  [0. 0. 0. 0.]\n",
      "  [0. 0. 0. 0.]]]\n",
      "[[[1. 1.]\n",
      "  [1. 1.]]\n",
      "\n",
      " [[1. 1.]\n",
      "  [1. 1.]]\n",
      "\n",
      " [[1. 1.]\n",
      "  [1. 1.]]]\n"
     ]
    }
   ],
   "source": [
    "# 3D array (Tensörler)\n",
    "\n",
    "# İçiçe listeler kullanarak 3D dizi oluşturma\n",
    "dizi_3d = np.array([[[1, 2], [3, 4]], [[5, 6], [7, 8]]])\n",
    "\n",
    "# Sıfırlardan oluşan 3D dizi oluşturma\n",
    "sifirlar_3d = np.zeros((2, 3, 4)) # 2 derinlik, 3 satır, 4 sütun\n",
    "\n",
    "# Birlerden oluşan 3D dizi oluşturma\n",
    "birler_3d = np.ones((3, 2, 2)) # 3 derinlik, 2 satır, 2 sütun\n",
    "\n",
    "print(dizi_3d)\n",
    "print(sifirlar_3d)\n",
    "print(birler_3d)"
   ]
  },
  {
   "cell_type": "markdown",
   "metadata": {},
   "source": [
    "---"
   ]
  },
  {
   "cell_type": "code",
   "execution_count": 3,
   "metadata": {},
   "outputs": [
    {
     "data": {
      "text/plain": [
       "(array([0, 1]),\n",
       " array([[6, 7],\n",
       "        [8, 9]]),\n",
       " array([[0, 1],\n",
       "        [1, 0]]))"
      ]
     },
     "execution_count": 3,
     "metadata": {},
     "output_type": "execute_result"
    }
   ],
   "source": [
    "import numpy as np\n",
    "\n",
    "arr1 = np.arange(0,2)\n",
    "arr2 = np.arange(6,10).reshape(2,-1)\n",
    "arr3 = np.array([[0,1],[1,0]])\n",
    "arr1, arr2, arr3"
   ]
  },
  {
   "cell_type": "markdown",
   "metadata": {},
   "source": [
    "### 3. arr1 ve arr2'yi nasıl toplarsınız?"
   ]
  },
  {
   "cell_type": "code",
   "execution_count": 5,
   "metadata": {},
   "outputs": [
    {
     "name": "stdout",
     "output_type": "stream",
     "text": [
      "[0 1]\n",
      "*********\n",
      "[[6 7]\n",
      " [8 9]]\n"
     ]
    }
   ],
   "source": [
    "print(arr1,\"*\"*9, arr2, sep=\"\\n\")"
   ]
  },
  {
   "cell_type": "code",
   "execution_count": 8,
   "metadata": {},
   "outputs": [
    {
     "data": {
      "text/plain": [
       "array([[ 6,  8],\n",
       "       [ 8, 10]])"
      ]
     },
     "execution_count": 8,
     "metadata": {},
     "output_type": "execute_result"
    }
   ],
   "source": [
    "arr1 + arr2"
   ]
  },
  {
   "cell_type": "markdown",
   "metadata": {},
   "source": [
    "### 4. arr2 ve arr3 arraylerini horizontal ve vertical olarak nasıl birleştirirsiniz (concat)?"
   ]
  },
  {
   "cell_type": "code",
   "execution_count": 6,
   "metadata": {},
   "outputs": [
    {
     "name": "stdout",
     "output_type": "stream",
     "text": [
      "[[6 7]\n",
      " [8 9]]\n",
      "*********\n",
      "[[0 1]\n",
      " [1 0]]\n"
     ]
    }
   ],
   "source": [
    "print(arr2,\"*\"*9, arr3, sep=\"\\n\")"
   ]
  },
  {
   "cell_type": "code",
   "execution_count": 9,
   "metadata": {},
   "outputs": [
    {
     "data": {
      "text/plain": [
       "array([[6, 7, 0, 1],\n",
       "       [8, 9, 1, 0]])"
      ]
     },
     "execution_count": 9,
     "metadata": {},
     "output_type": "execute_result"
    }
   ],
   "source": [
    "np.concatenate((arr2, arr3), axis=1)"
   ]
  },
  {
   "cell_type": "code",
   "execution_count": 10,
   "metadata": {},
   "outputs": [
    {
     "data": {
      "text/plain": [
       "array([[6, 7],\n",
       "       [8, 9],\n",
       "       [0, 1],\n",
       "       [1, 0]])"
      ]
     },
     "execution_count": 10,
     "metadata": {},
     "output_type": "execute_result"
    }
   ],
   "source": [
    "np.concatenate((arr2, arr3), axis=0)"
   ]
  },
  {
   "cell_type": "markdown",
   "metadata": {},
   "source": [
    "### 5. [4,1,5,7,0] dizesindeki en büyük iki elemanın indexini numpy ile nasıl gösterirsiniz?"
   ]
  },
  {
   "cell_type": "code",
   "execution_count": 7,
   "metadata": {},
   "outputs": [
    {
     "data": {
      "text/plain": [
       "array([4, 1, 0, 2, 3])"
      ]
     },
     "execution_count": 7,
     "metadata": {},
     "output_type": "execute_result"
    }
   ],
   "source": [
    "np.argsort([4,1,5,7,0])"
   ]
  },
  {
   "cell_type": "code",
   "execution_count": 11,
   "metadata": {},
   "outputs": [
    {
     "data": {
      "text/plain": [
       "array([2, 3])"
      ]
     },
     "execution_count": 11,
     "metadata": {},
     "output_type": "execute_result"
    }
   ],
   "source": [
    "np.argsort([4,1,5,7,0])[-2:] # küçükten büyüğe sıralayarak indexleri gösterir."
   ]
  },
  {
   "cell_type": "markdown",
   "metadata": {},
   "source": [
    "### 6. Numpy'da np.mean() ve np.average() arasındaki fark nedir?"
   ]
  },
  {
   "cell_type": "markdown",
   "metadata": {},
   "source": [
    "\n",
    "* np.mean() yöntemi aritmetik ortalamayı hesaplar ve girdi ve sonuçlar için ek seçenekler sunar. Örneğin, hangi veri türlerinin alınması gerektiğini, sonucun nereye yerleştirilmesi gerektiğini vb. belirtme seçeneğine sahiptir. \n",
    "\n",
    "* np.average() weights parametresi belirtilirse ağırlıklı ortalamayı hesaplar. Ağırlıklı ortalama durumunda, her veri noktasının nihai ortalamaya eşit şekilde katkıda bulunduğunu düşünmek yerine, bazı veri noktalarının diğerlerinden daha fazla ağırlığa sahip olduğunu (eşit olmayan katkı) düşünür."
   ]
  },
  {
   "cell_type": "code",
   "execution_count": 8,
   "metadata": {},
   "outputs": [
    {
     "name": "stdout",
     "output_type": "stream",
     "text": [
      "2.5\n"
     ]
    }
   ],
   "source": [
    "#np.mean()\n",
    "a = np.array([1, 2, 3, 4])\n",
    "ortalama = np.mean(a)\n",
    "print(ortalama)"
   ]
  },
  {
   "cell_type": "code",
   "execution_count": 9,
   "metadata": {},
   "outputs": [
    {
     "name": "stdout",
     "output_type": "stream",
     "text": [
      "2.0\n"
     ]
    }
   ],
   "source": [
    "#np.average()\n",
    "a = np.array([1, 2, 3, 4])\n",
    "agirliklar = np.array([4, 3, 2, 1])\n",
    "agirlikli_ortalama = np.average(a, weights=agirliklar)\n",
    "print(agirlikli_ortalama)"
   ]
  },
  {
   "cell_type": "markdown",
   "metadata": {},
   "source": [
    "### 7. arr[:,0] ve arr[:,[0]] arasında ne fark var?"
   ]
  },
  {
   "cell_type": "markdown",
   "metadata": {},
   "source": [
    "arr[:,0] tek boyutlu bir vektör döndürürken, arr[:,[0]] iki boyutlu bir matris döndürür.\n"
   ]
  },
  {
   "cell_type": "code",
   "execution_count": 10,
   "metadata": {},
   "outputs": [
    {
     "name": "stdout",
     "output_type": "stream",
     "text": [
      "[1 4 7]\n"
     ]
    }
   ],
   "source": [
    "arr = np.array([[1, 2, 3],\n",
    "                [4, 5, 6],\n",
    "                [7, 8, 9]])\n",
    "\n",
    "print(arr[:,0]) "
   ]
  },
  {
   "cell_type": "code",
   "execution_count": 40,
   "metadata": {},
   "outputs": [
    {
     "name": "stdout",
     "output_type": "stream",
     "text": [
      "[[1]\n",
      " [4]\n",
      " [7]]\n"
     ]
    }
   ],
   "source": [
    "print(arr[:,[0]]) # 0. indexe bir boyut ekle o şekilde getir."
   ]
  },
  {
   "cell_type": "markdown",
   "metadata": {},
   "source": [
    "### 8. Bir pandas DataFrame'i Numpy array'e nasıl dönüştürürsünüz?"
   ]
  },
  {
   "cell_type": "code",
   "execution_count": 41,
   "metadata": {},
   "outputs": [
    {
     "name": "stdout",
     "output_type": "stream",
     "text": [
      "DataFrame:\n",
      "    isim  yaş     şehir\n",
      "0   Ali   25    Ankara\n",
      "1  Veli   30  İstanbul\n",
      "2  Ayşe   28     İzmir\n",
      "\n",
      "NumPy Dizisi:\n",
      " [['Ali' 25 'Ankara']\n",
      " ['Veli' 30 'İstanbul']\n",
      " ['Ayşe' 28 'İzmir']]\n"
     ]
    }
   ],
   "source": [
    "# Bir DataFrame oluşturun\n",
    "data = {'isim': ['Ali', 'Veli', 'Ayşe'],\n",
    "        'yaş': [25, 30, 28],\n",
    "        'şehir': ['Ankara', 'İstanbul', 'İzmir']}\n",
    "df = pd.DataFrame(data)\n",
    "\n",
    "# DataFrame'i NumPy dizisine dönüştürün\n",
    "dizi = df.to_numpy()\n",
    "\n",
    "print(\"DataFrame:\\n\", df)\n",
    "print(\"\\nNumPy Dizisi:\\n\", dizi)"
   ]
  },
  {
   "cell_type": "markdown",
   "metadata": {},
   "source": [
    "### 9. Verilen bir NumPy arrayin bir dize öğesini büyük harfe, küçük harfe, ilk harfi büyük harfe, başlığı büyük harfe ve swapcase'e dönüştüren bir program yazın.?"
   ]
  },
  {
   "cell_type": "code",
   "execution_count": 43,
   "metadata": {},
   "outputs": [
    {
     "name": "stdout",
     "output_type": "stream",
     "text": [
      "Original Array:\n",
      "['Hello world' 'numpy is great' 'Python Programming']\n",
      "\n",
      "Uppercase:\n",
      "['HELLO WORLD' 'NUMPY IS GREAT' 'PYTHON PROGRAMMING']\n",
      "\n",
      "Lowercase:\n",
      "['hello world' 'numpy is great' 'python programming']\n",
      "\n",
      "Capitalized:\n",
      "['Hello world' 'Numpy is great' 'Python programming']\n",
      "\n",
      "Title Case:\n",
      "['Hello World' 'Numpy Is Great' 'Python Programming']\n",
      "\n",
      "Swap Case:\n",
      "['hELLO WORLD' 'NUMPY IS GREAT' 'pYTHON pROGRAMMING']\n"
     ]
    }
   ],
   "source": [
    "import numpy as np\n",
    "\n",
    "# Create a NumPy array of strings\n",
    "string_array = np.array(['Hello world', 'numpy is great', 'Python Programming'])\n",
    "\n",
    "# Convert to different cases\n",
    "uppercase_array = np.char.upper(string_array)\n",
    "lowercase_array = np.char.lower(string_array)\n",
    "capitalized_array = np.char.capitalize(string_array)\n",
    "titlecase_array = np.char.title(string_array)\n",
    "swapcase_array = np.char.swapcase(string_array)\n",
    "\n",
    "# Print the results\n",
    "print(\"Original Array:\")\n",
    "print(string_array)\n",
    "print(\"\\nUppercase:\")\n",
    "print(uppercase_array)\n",
    "print(\"\\nLowercase:\")\n",
    "print(lowercase_array)\n",
    "print(\"\\nCapitalized:\")\n",
    "print(capitalized_array)\n",
    "print(\"\\nTitle Case:\")\n",
    "print(titlecase_array)\n",
    "print(\"\\nSwap Case:\")\n",
    "print(swapcase_array)"
   ]
  },
  {
   "cell_type": "markdown",
   "metadata": {},
   "source": [
    "---"
   ]
  },
  {
   "cell_type": "markdown",
   "metadata": {},
   "source": [
    "# <p style=\"background-color:green;font-family:newtimeroman;font-size:100%;color:white;text-align:center;border-radius:20px 20px;\"><b>Faydalı Olması Temennisiyle Teşekkürler</b></p>\n",
    "![](https://www.techproeducation.com/logo/headerlogo.svg)\n",
    "\n",
    "<b>Yeniliklerden ilk siz haberdar olmak istiyorsanız lütfen bizi takip etmeyi unutmayın </b>[YouTube](https://www.youtube.com/c/techproeducation) | [Instagram](https://www.instagram.com/techproeducation) | [Facebook](https://www.facebook.com/techproeducation) | [Telegram](https://t.me/joinchat/HH2qRvA-ulh4OWbb) | [Whatsapp](https://api.whatsapp.com/send/?phone=%2B15853042959&text&type=phone_number&app_absent=0) | [LinkedIn](https://www.linkedin.com/company/techproeducation/mycompany/) |"
   ]
  }
 ],
 "metadata": {
  "kernelspec": {
   "display_name": "Python 3",
   "language": "python",
   "name": "python3"
  },
  "language_info": {
   "codemirror_mode": {
    "name": "ipython",
    "version": 3
   },
   "file_extension": ".py",
   "mimetype": "text/x-python",
   "name": "python",
   "nbconvert_exporter": "python",
   "pygments_lexer": "ipython3",
   "version": "3.11.4"
  }
 },
 "nbformat": 4,
 "nbformat_minor": 2
}
